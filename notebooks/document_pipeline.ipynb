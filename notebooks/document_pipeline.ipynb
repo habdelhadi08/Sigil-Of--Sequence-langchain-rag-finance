{
 "cells": [
  {
   "cell_type": "markdown",
   "id": "e84c24cf",
   "metadata": {},
   "source": [
    "### Load and Split PDF"
   ]
  },
  {
   "cell_type": "code",
   "execution_count": null,
   "id": "8c4419be",
   "metadata": {},
   "outputs": [
    {
     "name": "stdout",
     "output_type": "stream",
     "text": [
      "Total chunks: 322\n",
      "UNITED STATES\n",
      "SECURITIES AND EXCHANGE COMMISSION\n",
      "Washington, D.C. 20549\n",
      "FORM 10-Q\n",
      "(Mark One)\n",
      "x QUARTERLY REPORT PURSUANT TO SECTION 13 OR 15(d) OF THE SECURITIES EXCHANGE ACT OF 1934\n",
      "For the quarterly period ended March 31, 2024\n",
      "OR\n",
      "o TRANSITION REPORT PURSUANT TO SECTION 13 OR 15(d) OF THE SECURITIES EXCHANGE ACT OF 1934\n",
      "For the transition period from _________ to _________\n"
     ]
    }
   ],
   "source": [
    "from langchain.document_loaders import PyPDFLoader\n",
    "from langchain.text_splitter import RecursiveCharacterTextSplitter\n",
    "\n",
    "# Load PDF pages\n",
    "loader = PyPDFLoader(r\"..\\sample_data\\Tesla_10Q_Q1_2024.pdf\")  \n",
    "pages = loader.load() \n",
    "\n",
    "\n",
    "# Split into smaller chunks\n",
    "splitter = RecursiveCharacterTextSplitter(chunk_size=400, chunk_overlap=50)\n",
    "docs = splitter.split_documents(pages)  \n",
    "\n",
    "# Display the number of chunks and the first chunk's content\n",
    "print(f\"Total chunks: {len(docs)}\")\n",
    "print(docs[0].page_content[:500])\n",
    "\n",
    "\n"
   ]
  },
  {
   "cell_type": "markdown",
   "id": "d5b2b412",
   "metadata": {},
   "source": [
    "### Embed and Store"
   ]
  },
  {
   "cell_type": "code",
   "execution_count": 13,
   "id": "aa94fd4f",
   "metadata": {},
   "outputs": [],
   "source": [
    "from langchain.embeddings import HuggingFaceEmbeddings\n",
    "from langchain.vectorstores import FAISS\n",
    "\n",
    "# I chose small, fast model\n",
    "embedding_model = HuggingFaceEmbeddings(model_name=\"all-MiniLM-L6-v2\")\n",
    "\n",
    "vectorstore = FAISS.from_documents(docs, embedding_model)\n",
    "# Save the vectorstore to disk\n",
    "vectorstore.save_local(\"faiss_index\")\n",
    "\n",
    "\n",
    "\n"
   ]
  },
  {
   "cell_type": "code",
   "execution_count": null,
   "id": "0185190f",
   "metadata": {},
   "outputs": [
    {
     "name": "stderr",
     "output_type": "stream",
     "text": [
      "Device set to use cpu\n"
     ]
    },
    {
     "name": "stdout",
     "output_type": "stream",
     "text": [
      "\n",
      "🔹 Question: Which company is this report about?\n",
      "Answer:\n",
      "Tesla, Inc.\n",
      "--------------------------------------------------\n",
      "\n",
      "🔹 Question: What is this report about?\n",
      "Answer:\n",
      "Science/Tech\n",
      "--------------------------------------------------\n",
      "\n",
      "🔹 Question: Summarize this report.\n",
      "Answer:\n",
      "FINANCIAL INFORMATION ITEM 1. FINANCIAL STATEMENTS Tesla, Inc. Consolidated Balance Sheets (in millions, except per share data) (unaudited) 7/11/25, 7:00 PM tsla-20240331 https://www.sec.gov/Archives/edgar/data/1318605/000162828024017503/tsla-20240331.htm 5/43 17 7/11/25, 7:00 PM tsla-20240331 https://www.sec.gov/Archives/edgar/data/1318605/000162828024017503/tsla-20240331.htm 20/43\n",
      "--------------------------------------------------\n",
      "\n",
      "🔹 Question: What are the key financial highlights?\n",
      "Answer:\n",
      "MANAGEMENT’S DISCUSSION AND ANALYSIS OF FINANCIAL CONDITION AND RESULTS OF OPERATIONS The following discussion and analysis should be read in conjunction with the consolidated financial statements and the related notes included elsewhere in this Quarterly Report on Form 10-Q. Overview Consolidated Statements of Cash Flows 8 Notes to Consolidated Financial Statements 9 Item 2. Management’s Discussion and Analysis of Financial Condition and Results of Operations 25 Item 3. Quantitative and Qualitative Disclosures about Market Risk 33 Item 4. Controls and Procedures 33 PART II. OTHER INFORMATION Item 1. Legal Proceedings 34 Item 1A. Risk Factors 34 investments. Our cash, cash equivalents and investments classified by security type as of March 31, 2024 and December 31, 2023 consisted of the following (in millions): March 31, 2024 Adjusted Cost Gross Unrealized Gains Gross Unrealized Losses Fair Value Cash and Cash Equivalents Short-Term Investments Cash $ 11,387 $ — $ — $ 11,387 $ 11,387 $ — Money market funds 368 — — 368 368 —\n",
      "--------------------------------------------------\n",
      "\n",
      "🔹 Question: What is the revenue for the last quarter?\n",
      "Answer:\n",
      "$ 16,460 $ 18,878 Automotive regulatory credits 442 521 Energy generation and storage sales 1,522 1,413 Services and other 2,288 1,837 Total revenues from sales and services 20,712 22,649 Automotive leasing 476 564 the three months ended March 31, 2023 as we continue to expand our product roadmap and technologies. Selling, General and Administrative Expense Three Months Ended March 31, Change (Dollars in millions) 2024 2023 $ % Selling, general and administrative $ 1,374 $ 1,076 $ 298 28 % As a percentage of revenues 6 % 5 % 7/11/25, 7:00 PM tsla-20240331 Revenues $ 1,635 $ 1,529 Gross profit $ 403 $ 168\n",
      "--------------------------------------------------\n"
     ]
    }
   ],
   "source": [
    "from langchain.embeddings import HuggingFaceEmbeddings\n",
    "from langchain.vectorstores import FAISS\n",
    "from langchain.llms import HuggingFacePipeline\n",
    "from langchain.chains import RetrievalQA\n",
    "from transformers import pipeline\n",
    "\n",
    "\n",
    "# 3. QA Model\n",
    "qa_pipeline = pipeline(\"text2text-generation\", model=\"google/flan-t5-base\", max_length=512)\n",
    "llm = HuggingFacePipeline(pipeline=qa_pipeline)\n",
    "\n",
    "# 4. RetrievalQA Chain\n",
    "retriever = vectorstore.as_retriever(search_kwargs={\"k\": 3})\n",
    "qa_chain = RetrievalQA.from_chain_type(llm=llm, retriever=retriever, chain_type=\"stuff\")\n",
    "\n",
    "\n",
    "# 5. Ask a question\n",
    "queries = [\n",
    "    \"Which company is this report about?\",\n",
    "    \"What is this report about?\",\n",
    "    \"Summarize this report.\",\n",
    "    \"What are the key financial highlights?\",\n",
    "    \"What is the revenue for the last quarter?\",\n",
    "    \n",
    "    \n",
    "]\n",
    "\n",
    "for q in queries:\n",
    "    print(f\"\\n🔹 Question: {q}\")\n",
    "    answer = qa_chain.run(q)\n",
    "    print(f\"Answer:\\n{answer}\\n{'-'*50}\")\n"
   ]
  }
 ],
 "metadata": {
  "kernelspec": {
   "display_name": "venv310",
   "language": "python",
   "name": "python3"
  },
  "language_info": {
   "codemirror_mode": {
    "name": "ipython",
    "version": 3
   },
   "file_extension": ".py",
   "mimetype": "text/x-python",
   "name": "python",
   "nbconvert_exporter": "python",
   "pygments_lexer": "ipython3",
   "version": "3.10.9"
  }
 },
 "nbformat": 4,
 "nbformat_minor": 5
}
